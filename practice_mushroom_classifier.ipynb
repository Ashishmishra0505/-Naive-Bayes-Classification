{
 "cells": [
  {
   "cell_type": "markdown",
   "metadata": {},
   "source": [
    "### Importing Libraries"
   ]
  },
  {
   "cell_type": "code",
   "execution_count": 111,
   "metadata": {},
   "outputs": [],
   "source": [
    "import pandas as pd"
   ]
  },
  {
   "cell_type": "code",
   "execution_count": 112,
   "metadata": {},
   "outputs": [],
   "source": [
    "import numpy as np"
   ]
  },
  {
   "cell_type": "code",
   "execution_count": 113,
   "metadata": {},
   "outputs": [],
   "source": [
    "import matplotlib.pyplot as plt"
   ]
  },
  {
   "cell_type": "markdown",
   "metadata": {},
   "source": [
    "### Importing the dataset"
   ]
  },
  {
   "cell_type": "code",
   "execution_count": 114,
   "metadata": {},
   "outputs": [],
   "source": [
    "RawData = pd.read_csv(\"mushrooms.csv\")"
   ]
  },
  {
   "cell_type": "markdown",
   "metadata": {},
   "source": [
    "### Let's have a look at the dataset"
   ]
  },
  {
   "cell_type": "code",
   "execution_count": 115,
   "metadata": {},
   "outputs": [
    {
     "data": {
      "text/html": [
       "<div>\n",
       "<style scoped>\n",
       "    .dataframe tbody tr th:only-of-type {\n",
       "        vertical-align: middle;\n",
       "    }\n",
       "\n",
       "    .dataframe tbody tr th {\n",
       "        vertical-align: top;\n",
       "    }\n",
       "\n",
       "    .dataframe thead th {\n",
       "        text-align: right;\n",
       "    }\n",
       "</style>\n",
       "<table border=\"1\" class=\"dataframe\">\n",
       "  <thead>\n",
       "    <tr style=\"text-align: right;\">\n",
       "      <th></th>\n",
       "      <th>class</th>\n",
       "      <th>cap-shape</th>\n",
       "      <th>cap-surface</th>\n",
       "      <th>cap-color</th>\n",
       "      <th>bruises</th>\n",
       "      <th>odor</th>\n",
       "      <th>gill-attachment</th>\n",
       "      <th>gill-spacing</th>\n",
       "      <th>gill-size</th>\n",
       "      <th>gill-color</th>\n",
       "      <th>...</th>\n",
       "      <th>stalk-surface-below-ring</th>\n",
       "      <th>stalk-color-above-ring</th>\n",
       "      <th>stalk-color-below-ring</th>\n",
       "      <th>veil-type</th>\n",
       "      <th>veil-color</th>\n",
       "      <th>ring-number</th>\n",
       "      <th>ring-type</th>\n",
       "      <th>spore-print-color</th>\n",
       "      <th>population</th>\n",
       "      <th>habitat</th>\n",
       "    </tr>\n",
       "  </thead>\n",
       "  <tbody>\n",
       "    <tr>\n",
       "      <th>0</th>\n",
       "      <td>p</td>\n",
       "      <td>x</td>\n",
       "      <td>s</td>\n",
       "      <td>n</td>\n",
       "      <td>t</td>\n",
       "      <td>p</td>\n",
       "      <td>f</td>\n",
       "      <td>c</td>\n",
       "      <td>n</td>\n",
       "      <td>k</td>\n",
       "      <td>...</td>\n",
       "      <td>s</td>\n",
       "      <td>w</td>\n",
       "      <td>w</td>\n",
       "      <td>p</td>\n",
       "      <td>w</td>\n",
       "      <td>o</td>\n",
       "      <td>p</td>\n",
       "      <td>k</td>\n",
       "      <td>s</td>\n",
       "      <td>u</td>\n",
       "    </tr>\n",
       "    <tr>\n",
       "      <th>1</th>\n",
       "      <td>e</td>\n",
       "      <td>x</td>\n",
       "      <td>s</td>\n",
       "      <td>y</td>\n",
       "      <td>t</td>\n",
       "      <td>a</td>\n",
       "      <td>f</td>\n",
       "      <td>c</td>\n",
       "      <td>b</td>\n",
       "      <td>k</td>\n",
       "      <td>...</td>\n",
       "      <td>s</td>\n",
       "      <td>w</td>\n",
       "      <td>w</td>\n",
       "      <td>p</td>\n",
       "      <td>w</td>\n",
       "      <td>o</td>\n",
       "      <td>p</td>\n",
       "      <td>n</td>\n",
       "      <td>n</td>\n",
       "      <td>g</td>\n",
       "    </tr>\n",
       "    <tr>\n",
       "      <th>2</th>\n",
       "      <td>e</td>\n",
       "      <td>b</td>\n",
       "      <td>s</td>\n",
       "      <td>w</td>\n",
       "      <td>t</td>\n",
       "      <td>l</td>\n",
       "      <td>f</td>\n",
       "      <td>c</td>\n",
       "      <td>b</td>\n",
       "      <td>n</td>\n",
       "      <td>...</td>\n",
       "      <td>s</td>\n",
       "      <td>w</td>\n",
       "      <td>w</td>\n",
       "      <td>p</td>\n",
       "      <td>w</td>\n",
       "      <td>o</td>\n",
       "      <td>p</td>\n",
       "      <td>n</td>\n",
       "      <td>n</td>\n",
       "      <td>m</td>\n",
       "    </tr>\n",
       "    <tr>\n",
       "      <th>3</th>\n",
       "      <td>p</td>\n",
       "      <td>x</td>\n",
       "      <td>y</td>\n",
       "      <td>w</td>\n",
       "      <td>t</td>\n",
       "      <td>p</td>\n",
       "      <td>f</td>\n",
       "      <td>c</td>\n",
       "      <td>n</td>\n",
       "      <td>n</td>\n",
       "      <td>...</td>\n",
       "      <td>s</td>\n",
       "      <td>w</td>\n",
       "      <td>w</td>\n",
       "      <td>p</td>\n",
       "      <td>w</td>\n",
       "      <td>o</td>\n",
       "      <td>p</td>\n",
       "      <td>k</td>\n",
       "      <td>s</td>\n",
       "      <td>u</td>\n",
       "    </tr>\n",
       "    <tr>\n",
       "      <th>4</th>\n",
       "      <td>e</td>\n",
       "      <td>x</td>\n",
       "      <td>s</td>\n",
       "      <td>g</td>\n",
       "      <td>f</td>\n",
       "      <td>n</td>\n",
       "      <td>f</td>\n",
       "      <td>w</td>\n",
       "      <td>b</td>\n",
       "      <td>k</td>\n",
       "      <td>...</td>\n",
       "      <td>s</td>\n",
       "      <td>w</td>\n",
       "      <td>w</td>\n",
       "      <td>p</td>\n",
       "      <td>w</td>\n",
       "      <td>o</td>\n",
       "      <td>e</td>\n",
       "      <td>n</td>\n",
       "      <td>a</td>\n",
       "      <td>g</td>\n",
       "    </tr>\n",
       "  </tbody>\n",
       "</table>\n",
       "<p>5 rows × 23 columns</p>\n",
       "</div>"
      ],
      "text/plain": [
       "  class cap-shape cap-surface cap-color bruises odor gill-attachment  \\\n",
       "0     p         x           s         n       t    p               f   \n",
       "1     e         x           s         y       t    a               f   \n",
       "2     e         b           s         w       t    l               f   \n",
       "3     p         x           y         w       t    p               f   \n",
       "4     e         x           s         g       f    n               f   \n",
       "\n",
       "  gill-spacing gill-size gill-color   ...   stalk-surface-below-ring  \\\n",
       "0            c         n          k   ...                          s   \n",
       "1            c         b          k   ...                          s   \n",
       "2            c         b          n   ...                          s   \n",
       "3            c         n          n   ...                          s   \n",
       "4            w         b          k   ...                          s   \n",
       "\n",
       "  stalk-color-above-ring stalk-color-below-ring veil-type veil-color  \\\n",
       "0                      w                      w         p          w   \n",
       "1                      w                      w         p          w   \n",
       "2                      w                      w         p          w   \n",
       "3                      w                      w         p          w   \n",
       "4                      w                      w         p          w   \n",
       "\n",
       "  ring-number ring-type spore-print-color population habitat  \n",
       "0           o         p                 k          s       u  \n",
       "1           o         p                 n          n       g  \n",
       "2           o         p                 n          n       m  \n",
       "3           o         p                 k          s       u  \n",
       "4           o         e                 n          a       g  \n",
       "\n",
       "[5 rows x 23 columns]"
      ]
     },
     "execution_count": 115,
     "metadata": {},
     "output_type": "execute_result"
    }
   ],
   "source": [
    "RawData.head()"
   ]
  },
  {
   "cell_type": "markdown",
   "metadata": {},
   "source": [
    "As we can see the data is full of labels. So in each Feature we need to calculate the relative frequency of each label when the class is 'p' and 'e'."
   ]
  },
  {
   "cell_type": "code",
   "execution_count": 116,
   "metadata": {},
   "outputs": [
    {
     "name": "stdout",
     "output_type": "stream",
     "text": [
      "Total no. of rows 8124\n"
     ]
    }
   ],
   "source": [
    "print(\"Total no. of rows\", RawData.shape[0])"
   ]
  },
  {
   "cell_type": "code",
   "execution_count": 117,
   "metadata": {},
   "outputs": [
    {
     "data": {
      "text/plain": [
       "6093.0"
      ]
     },
     "execution_count": 117,
     "metadata": {},
     "output_type": "execute_result"
    }
   ],
   "source": [
    "RawData.shape[0]*0.75"
   ]
  },
  {
   "cell_type": "code",
   "execution_count": 118,
   "metadata": {},
   "outputs": [
    {
     "data": {
      "text/plain": [
       "3046.5"
      ]
     },
     "execution_count": 118,
     "metadata": {},
     "output_type": "execute_result"
    }
   ],
   "source": [
    "(RawData.shape[0]*0.75)/2"
   ]
  },
  {
   "cell_type": "markdown",
   "metadata": {},
   "source": [
    "### Splitting the class p and class e seperately."
   ]
  },
  {
   "cell_type": "code",
   "execution_count": 119,
   "metadata": {},
   "outputs": [],
   "source": [
    "eTypeData = RawData[RawData['class'] == 'e']"
   ]
  },
  {
   "cell_type": "code",
   "execution_count": 120,
   "metadata": {},
   "outputs": [
    {
     "name": "stdout",
     "output_type": "stream",
     "text": [
      "(4208, 23)\n"
     ]
    }
   ],
   "source": [
    "print(eTypeData.shape)"
   ]
  },
  {
   "cell_type": "code",
   "execution_count": 121,
   "metadata": {},
   "outputs": [],
   "source": [
    "pTypeData = RawData[RawData['class'] == 'p']"
   ]
  },
  {
   "cell_type": "code",
   "execution_count": 122,
   "metadata": {},
   "outputs": [
    {
     "name": "stdout",
     "output_type": "stream",
     "text": [
      "(3916, 23)\n"
     ]
    }
   ],
   "source": [
    "print(pTypeData.shape)"
   ]
  },
  {
   "cell_type": "markdown",
   "metadata": {},
   "source": [
    "### Splitting the dataset in Training set and Test set"
   ]
  },
  {
   "cell_type": "code",
   "execution_count": 123,
   "metadata": {},
   "outputs": [],
   "source": [
    "eTypeTrain = eTypeData.iloc[:3046,:]\n",
    "eTypeTest = eTypeData.iloc[3046:,:]"
   ]
  },
  {
   "cell_type": "code",
   "execution_count": 124,
   "metadata": {},
   "outputs": [],
   "source": [
    "pTypeTrain = pTypeData.iloc[:3046,:]\n",
    "pTYpeTest = pTypeData.iloc[3046:,:]"
   ]
  },
  {
   "cell_type": "code",
   "execution_count": null,
   "metadata": {},
   "outputs": [],
   "source": []
  },
  {
   "cell_type": "code",
   "execution_count": 125,
   "metadata": {},
   "outputs": [],
   "source": [
    "eTypeTrainDict = {}"
   ]
  },
  {
   "cell_type": "code",
   "execution_count": 126,
   "metadata": {},
   "outputs": [
    {
     "name": "stdout",
     "output_type": "stream",
     "text": [
      "Index(['cap-shape', 'cap-surface', 'cap-color', 'bruises', 'odor',\n",
      "       'gill-attachment', 'gill-spacing', 'gill-size', 'gill-color',\n",
      "       'stalk-shape', 'stalk-root', 'stalk-surface-above-ring',\n",
      "       'stalk-surface-below-ring', 'stalk-color-above-ring',\n",
      "       'stalk-color-below-ring', 'veil-type', 'veil-color', 'ring-number',\n",
      "       'ring-type', 'spore-print-color', 'population', 'habitat'],\n",
      "      dtype='object')\n"
     ]
    }
   ],
   "source": [
    "columns = eTypeTrain.columns[1:]\n",
    "print(columns)"
   ]
  },
  {
   "cell_type": "code",
   "execution_count": 127,
   "metadata": {},
   "outputs": [
    {
     "data": {
      "text/plain": [
       "array(['x', 'b', 's', 'f', 'k'], dtype=object)"
      ]
     },
     "execution_count": 127,
     "metadata": {},
     "output_type": "execute_result"
    }
   ],
   "source": [
    "eTypeData['cap-shape'].unique()"
   ]
  },
  {
   "cell_type": "markdown",
   "metadata": {},
   "source": [
    "**Making a dictionary of dictionary containing relative frequency of each value each label in its corresponding Feature.**"
   ]
  },
  {
   "cell_type": "code",
   "execution_count": 128,
   "metadata": {},
   "outputs": [],
   "source": [
    "for i in columns:\n",
    "    temp_dict = {}\n",
    "    for j in RawData[i].unique():\n",
    "        \n",
    "        temp_dict[j] = np.mean((eTypeTrain[i] == j)*1)\n",
    "        # Smoothing is done so that if there is a label with no occurence in training set then its value should be low but not zero\n",
    "        if temp_dict[j] == 0:\n",
    "            temp_dict[j] = 1/(3046+len(RawData[i].unique()))\n",
    "            \n",
    "        \n",
    "    eTypeTrainDict[i] = temp_dict"
   ]
  },
  {
   "cell_type": "code",
   "execution_count": 129,
   "metadata": {},
   "outputs": [
    {
     "data": {
      "text/plain": [
       "{'bruises': {'f': 0.28365068942875904, 't': 0.716349310571241},\n",
       " 'cap-color': {'b': 0.0003272251308900524,\n",
       "  'c': 0.0003272251308900524,\n",
       "  'e': 0.139198949441891,\n",
       "  'g': 0.25344714379514116,\n",
       "  'n': 0.29218647406434667,\n",
       "  'p': 0.0003272251308900524,\n",
       "  'r': 0.0003272251308900524,\n",
       "  'u': 0.0003272251308900524,\n",
       "  'w': 0.18384766907419567,\n",
       "  'y': 0.1313197636244255},\n",
       " 'cap-shape': {'b': 0.0840446487196323,\n",
       "  'c': 0.000327653997378768,\n",
       "  'f': 0.3670387393302692,\n",
       "  'k': 0.000327653997378768,\n",
       "  's': 0.010505581089954037,\n",
       "  'x': 0.5384110308601444},\n",
       " 'cap-surface': {'f': 0.41464215364412343,\n",
       "  'g': 0.0003278688524590164,\n",
       "  's': 0.22586999343401182,\n",
       "  'y': 0.35948785292186475},\n",
       " 'gill-attachment': {'a': 0.00032808398950131233, 'f': 1.0},\n",
       " 'gill-color': {'b': 0.0003270111183780249,\n",
       "  'e': 0.0003270111183780249,\n",
       "  'g': 0.04990151017728168,\n",
       "  'h': 0.06303348653972422,\n",
       "  'k': 0.11293499671700591,\n",
       "  'n': 0.25902823374917927,\n",
       "  'o': 0.0003270111183780249,\n",
       "  'p': 0.21831910702560736,\n",
       "  'r': 0.0003270111183780249,\n",
       "  'u': 0.11227839789888379,\n",
       "  'w': 0.1845042678923178,\n",
       "  'y': 0.0003270111183780249},\n",
       " 'gill-size': {'b': 0.9369665134602758, 'n': 0.06303348653972422},\n",
       " 'gill-spacing': {'c': 0.716349310571241, 'w': 0.28365068942875904},\n",
       " 'habitat': {'d': 0.4852265265922521,\n",
       "  'g': 0.36769533814839134,\n",
       "  'l': 0.00032754667540124465,\n",
       "  'm': 0.0840446487196323,\n",
       "  'p': 0.03151674326986211,\n",
       "  'u': 0.03151674326986211,\n",
       "  'w': 0.00032754667540124465},\n",
       " 'odor': {'a': 0.1313197636244255,\n",
       "  'c': 0.0003273322422258593,\n",
       "  'f': 0.0003273322422258593,\n",
       "  'l': 0.1313197636244255,\n",
       "  'm': 0.0003273322422258593,\n",
       "  'n': 0.737360472751149,\n",
       "  'p': 0.0003273322422258593,\n",
       "  's': 0.0003273322422258593,\n",
       "  'y': 0.0003273322422258593},\n",
       " 'population': {'a': 0.12606697307944845,\n",
       "  'c': 0.000327653997378768,\n",
       "  'n': 0.0840446487196323,\n",
       "  's': 0.24162836506894286,\n",
       "  'v': 0.27380170715692714,\n",
       "  'y': 0.2744583059750492},\n",
       " 'ring-number': {'n': 0.00032797638570022957,\n",
       "  'o': 1.0,\n",
       "  't': 0.00032797638570022957},\n",
       " 'ring-type': {'e': 0.2521339461588969,\n",
       "  'f': 0.00032776138970829236,\n",
       "  'l': 0.00032776138970829236,\n",
       "  'n': 0.00032776138970829236,\n",
       "  'p': 0.747866053841103},\n",
       " 'spore-print-color': {'b': 0.0003273322422258593,\n",
       "  'h': 0.0003273322422258593,\n",
       "  'k': 0.48752462245567957,\n",
       "  'n': 0.4967170059093894,\n",
       "  'o': 0.0003273322422258593,\n",
       "  'r': 0.0003273322422258593,\n",
       "  'u': 0.015758371634931056,\n",
       "  'w': 0.0003273322422258593,\n",
       "  'y': 0.0003273322422258593},\n",
       " 'stalk-color-above-ring': {'b': 0.0003273322422258593,\n",
       "  'c': 0.0003273322422258593,\n",
       "  'e': 0.0003273322422258593,\n",
       "  'g': 0.15134602757715035,\n",
       "  'n': 0.0003273322422258593,\n",
       "  'o': 0.0003273322422258593,\n",
       "  'p': 0.15233092580433355,\n",
       "  'w': 0.6963230466185161,\n",
       "  'y': 0.0003273322422258593},\n",
       " 'stalk-color-below-ring': {'b': 0.0003273322422258593,\n",
       "  'c': 0.0003273322422258593,\n",
       "  'e': 0.0003273322422258593,\n",
       "  'g': 0.15331582403151675,\n",
       "  'n': 0.0003273322422258593,\n",
       "  'o': 0.0003273322422258593,\n",
       "  'p': 0.15233092580433355,\n",
       "  'w': 0.6943532501641497,\n",
       "  'y': 0.0003273322422258593},\n",
       " 'stalk-root': {'?': 0.00032776138970829236,\n",
       "  'b': 0.4852265265922521,\n",
       "  'c': 0.1680892974392646,\n",
       "  'e': 0.28365068942875904,\n",
       "  'r': 0.06303348653972422},\n",
       " 'stalk-shape': {'e': 0.262639527248851, 't': 0.737360472751149},\n",
       " 'stalk-surface-above-ring': {'f': 0.12606697307944845,\n",
       "  'k': 0.0003278688524590164,\n",
       "  's': 0.8739330269205515,\n",
       "  'y': 0.0003278688524590164},\n",
       " 'stalk-surface-below-ring': {'f': 0.12606697307944845,\n",
       "  'k': 0.0003278688524590164,\n",
       "  's': 0.8108995403808273,\n",
       "  'y': 0.06303348653972422},\n",
       " 'veil-color': {'n': 0.0003278688524590164,\n",
       "  'o': 0.0003278688524590164,\n",
       "  'w': 1.0,\n",
       "  'y': 0.0003278688524590164},\n",
       " 'veil-type': {'p': 1.0}}"
      ]
     },
     "execution_count": 129,
     "metadata": {},
     "output_type": "execute_result"
    }
   ],
   "source": [
    "eTypeTrainDict"
   ]
  },
  {
   "cell_type": "code",
   "execution_count": 130,
   "metadata": {},
   "outputs": [],
   "source": [
    "pTypeTrainDict = {}"
   ]
  },
  {
   "cell_type": "code",
   "execution_count": 131,
   "metadata": {},
   "outputs": [
    {
     "name": "stdout",
     "output_type": "stream",
     "text": [
      "Index(['cap-shape', 'cap-surface', 'cap-color', 'bruises', 'odor',\n",
      "       'gill-attachment', 'gill-spacing', 'gill-size', 'gill-color',\n",
      "       'stalk-shape', 'stalk-root', 'stalk-surface-above-ring',\n",
      "       'stalk-surface-below-ring', 'stalk-color-above-ring',\n",
      "       'stalk-color-below-ring', 'veil-type', 'veil-color', 'ring-number',\n",
      "       'ring-type', 'spore-print-color', 'population', 'habitat'],\n",
      "      dtype='object')\n"
     ]
    }
   ],
   "source": [
    "columns = pTypeData.columns[1:]\n",
    "print(columns)"
   ]
  },
  {
   "cell_type": "code",
   "execution_count": 132,
   "metadata": {},
   "outputs": [],
   "source": [
    "for i in columns:\n",
    "    temp_dict = {}\n",
    "    for j in RawData[i].unique():\n",
    "        temp_dict[j] = np.mean((pTypeTrain[i] == j)*1)\n",
    "        \n",
    "# Smoothning is done to give the probability be very small but not zero.\n",
    "        \n",
    "    if temp_dict[j] == 0:\n",
    "            temp_dict[j] = 1/(3046+len(pTypeData[i].unique()))\n",
    "            \n",
    "    pTypeTrainDict[i] = temp_dict"
   ]
  },
  {
   "cell_type": "code",
   "execution_count": 133,
   "metadata": {},
   "outputs": [
    {
     "data": {
      "text/plain": [
       "array(['x', 'b', 's', 'f', 'k', 'c'], dtype=object)"
      ]
     },
     "execution_count": 133,
     "metadata": {},
     "output_type": "execute_result"
    }
   ],
   "source": [
    "RawData['cap-shape'].unique()"
   ]
  },
  {
   "cell_type": "code",
   "execution_count": 134,
   "metadata": {},
   "outputs": [
    {
     "data": {
      "text/plain": [
       "{'bruises': {'f': 0.7951411687458962, 't': 0.20485883125410373},\n",
       " 'cap-color': {'b': 0.03939592908732764,\n",
       "  'c': 0.00032829940906106366,\n",
       "  'e': 0.1421536441234406,\n",
       "  'g': 0.26526592252133946,\n",
       "  'n': 0.20091923834537098,\n",
       "  'p': 0.028890347997373604,\n",
       "  'r': 0.0003274394237066143,\n",
       "  'u': 0.0,\n",
       "  'w': 0.10505581089954039,\n",
       "  'y': 0.2179908076165463},\n",
       " 'cap-shape': {'b': 0.015101772816808929,\n",
       "  'c': 0.0006565988181221273,\n",
       "  'f': 0.44353250164149705,\n",
       "  'k': 0.022652659225213395,\n",
       "  's': 0.0,\n",
       "  'x': 0.5180564674983585},\n",
       " 'cap-surface': {'f': 0.2495075508864084,\n",
       "  'g': 0.0013131976362442547,\n",
       "  's': 0.3148391332895601,\n",
       "  'y': 0.4343401181877873},\n",
       " 'gill-attachment': {'a': 0.00032829940906106366, 'f': 0.9996717005909389},\n",
       " 'gill-color': {'b': 0.29546946815495734,\n",
       "  'e': 0.0,\n",
       "  'g': 0.1654629021667761,\n",
       "  'h': 0.17334208798424164,\n",
       "  'k': 0.021011162179908074,\n",
       "  'n': 0.036769533814839134,\n",
       "  'o': 0.0003272251308900524,\n",
       "  'p': 0.21011162179908077,\n",
       "  'r': 0.007879185817465528,\n",
       "  'u': 0.015758371634931056,\n",
       "  'w': 0.07419566644780039,\n",
       "  'y': 0.0},\n",
       " 'gill-size': {'b': 0.5443204202232436, 'n': 0.4556795797767564},\n",
       " 'gill-spacing': {'c': 0.9658568614576494, 'w': 0.034143138542350626},\n",
       " 'habitat': {'d': 0.31221273801707156,\n",
       "  'g': 0.24294156270518713,\n",
       "  'l': 0.10407091267235719,\n",
       "  'm': 0.011818778726198293,\n",
       "  'p': 0.2396585686145765,\n",
       "  'u': 0.08929743926460933,\n",
       "  'w': 0.0},\n",
       " 'odor': {'a': 0.0,\n",
       "  'c': 0.06303348653972422,\n",
       "  'f': 0.6165462902166776,\n",
       "  'l': 0.0,\n",
       "  'm': 0.0006565988181221273,\n",
       "  'n': 0.036769533814839134,\n",
       "  'p': 0.0840446487196323,\n",
       "  's': 0.09619172685489166,\n",
       "  'y': 0.10275771503611293},\n",
       " 'population': {'a': 0.0,\n",
       "  'c': 0.003282994090610637,\n",
       "  'n': 0.0,\n",
       "  's': 0.12081418253447143,\n",
       "  'v': 0.6631648063033486,\n",
       "  'y': 0.21273801707156928},\n",
       " 'ring-number': {'n': 0.0006565988181221273,\n",
       "  'o': 0.9757058437294813,\n",
       "  't': 0.023637557452396585},\n",
       " 'ring-type': {'e': 0.30597504924491137,\n",
       "  'f': 0.0,\n",
       "  'l': 0.42547603414313856,\n",
       "  'n': 0.0006565988181221273,\n",
       "  'p': 0.267892317793828},\n",
       " 'spore-print-color': {'b': 0.00032776138970829236,\n",
       "  'h': 0.5200262639527249,\n",
       "  'k': 0.07353906762967827,\n",
       "  'n': 0.07353906762967827,\n",
       "  'o': 0.0,\n",
       "  'r': 0.023637557452396585,\n",
       "  'u': 0.0,\n",
       "  'w': 0.309258043335522,\n",
       "  'y': 0.0},\n",
       " 'stalk-color-above-ring': {'b': 0.14182534471437952,\n",
       "  'c': 0.0006565988181221273,\n",
       "  'e': 0.0,\n",
       "  'g': 0.0,\n",
       "  'n': 0.14182534471437952,\n",
       "  'o': 0.0,\n",
       "  'p': 0.28988837820091923,\n",
       "  'w': 0.4258043335521996,\n",
       "  'y': 0.000327653997378768},\n",
       " 'stalk-color-below-ring': {'b': 0.14182534471437952,\n",
       "  'c': 0.0006565988181221273,\n",
       "  'e': 0.0,\n",
       "  'g': 0.0,\n",
       "  'n': 0.14707813525935653,\n",
       "  'o': 0.0,\n",
       "  'p': 0.29087327642810246,\n",
       "  'w': 0.4143138542350624,\n",
       "  'y': 0.005252790544977019},\n",
       " 'stalk-root': {'?': 0.30597504924491137,\n",
       "  'b': 0.6093237032173342,\n",
       "  'c': 0.0006565988181221273,\n",
       "  'e': 0.0840446487196323,\n",
       "  'r': 0.0},\n",
       " 'stalk-shape': {'e': 0.6099803020354564, 't': 0.39001969796454367},\n",
       " 'stalk-surface-above-ring': {'f': 0.04727511490479317,\n",
       "  'k': 0.5860144451739987,\n",
       "  's': 0.36671043992120816,\n",
       "  'y': 0.0003278688524590164},\n",
       " 'stalk-surface-below-ring': {'f': 0.04727511490479317,\n",
       "  'k': 0.5745239658568615,\n",
       "  's': 0.3670387393302692,\n",
       "  'y': 0.011162179908076166},\n",
       " 'veil-color': {'n': 0.0, 'o': 0.0, 'w': 1.0, 'y': 0.00032808398950131233},\n",
       " 'veil-type': {'p': 1.0}}"
      ]
     },
     "execution_count": 134,
     "metadata": {},
     "output_type": "execute_result"
    }
   ],
   "source": [
    "pTypeTrainDict"
   ]
  },
  {
   "cell_type": "code",
   "execution_count": 135,
   "metadata": {},
   "outputs": [
    {
     "data": {
      "text/plain": [
       "(870, 23)"
      ]
     },
     "execution_count": 135,
     "metadata": {},
     "output_type": "execute_result"
    }
   ],
   "source": [
    "pTYpeTest.shape"
   ]
  },
  {
   "cell_type": "code",
   "execution_count": 136,
   "metadata": {},
   "outputs": [
    {
     "data": {
      "text/plain": [
       "(1162, 23)"
      ]
     },
     "execution_count": 136,
     "metadata": {},
     "output_type": "execute_result"
    }
   ],
   "source": [
    "eTypeTest.shape"
   ]
  },
  {
   "cell_type": "markdown",
   "metadata": {},
   "source": [
    "### Finding the probability of class 'p' that on the given data of Feature."
   ]
  },
  {
   "cell_type": "code",
   "execution_count": 145,
   "metadata": {},
   "outputs": [],
   "source": [
    "def multivariteNaiveBayesClassifier(oneExample):\n",
    "    mul1 = 1\n",
    "    mul2 = 1\n",
    "    \n",
    "    for i in oneExample.keys():\n",
    "        mul1 *= pTypeTrainDict[i][oneExample[i]]\n",
    "        mul2 *= eTypeTrainDict[i][oneExample[i]] \n",
    "        \n",
    "    #Here mul1 is Probability of given data when class in 'p'\n",
    "    #Here mul2 is Probability of given data when class in 'e'\n",
    "    \n",
    "    priorOfeTYpe = 0.5\n",
    "    priorOfpType = 0.5\n",
    "    \n",
    "    numerator = priorOfpType*mul1\n",
    "    evidence = priorOfeTYpe*mul2 + numerator\n",
    "    \n",
    "    return numerator/evidence"
   ]
  },
  {
   "cell_type": "code",
   "execution_count": 146,
   "metadata": {},
   "outputs": [
    {
     "data": {
      "text/plain": [
       "0.0"
      ]
     },
     "execution_count": 146,
     "metadata": {},
     "output_type": "execute_result"
    }
   ],
   "source": [
    "multivariteNaiveBayesClassifier(eTypeTest.iloc[0,1:])"
   ]
  },
  {
   "cell_type": "code",
   "execution_count": 147,
   "metadata": {},
   "outputs": [
    {
     "data": {
      "text/plain": [
       "1.0"
      ]
     },
     "execution_count": 147,
     "metadata": {},
     "output_type": "execute_result"
    }
   ],
   "source": [
    "multivariteNaiveBayesClassifier(pTYpeTest.iloc[0,1:])"
   ]
  },
  {
   "cell_type": "code",
   "execution_count": 148,
   "metadata": {},
   "outputs": [
    {
     "data": {
      "text/plain": [
       "'e'"
      ]
     },
     "execution_count": 148,
     "metadata": {},
     "output_type": "execute_result"
    }
   ],
   "source": [
    "eTypeTest.iloc[0,0]"
   ]
  },
  {
   "cell_type": "markdown",
   "metadata": {},
   "source": [
    "### We are going to test the model on eType Test set of mushrooms"
   ]
  },
  {
   "cell_type": "code",
   "execution_count": 174,
   "metadata": {},
   "outputs": [],
   "source": [
    "truePositive = 0\n",
    "trueNegative = 0\n",
    "falsePositive = 0\n",
    "falseNegative = 0\n",
    "\n",
    "for i in range(eTypeTest.shape[0]):\n",
    "    \n",
    "    PmushroomIsPgivenOnFeatures = multivariteNaiveBayesClassifier(eTypeTest.iloc[i,1:])\n",
    "    \n",
    "    actualClass = eTypeTest.iloc[i,0]\n",
    "    \n",
    "    if PmushroomIsPgivenOnFeatures>0.5 and actualClass == 'p':\n",
    "        truePositive +=1\n",
    "    elif PmushroomIsPgivenOnFeatures <0.5 and actualClass == 'e':\n",
    "        trueNegative +=1\n",
    "    elif PmushroomIsPgivenOnFeatures>0.5 and actualClass == 'e':\n",
    "        falsePositive +=1\n",
    "    else:\n",
    "        falseNegative +=1"
   ]
  },
  {
   "cell_type": "markdown",
   "metadata": {},
   "source": [
    "This test data was all about eType mushroooms. So we should be concerned in finding out the trueNegative and falsePositive."
   ]
  },
  {
   "cell_type": "code",
   "execution_count": 175,
   "metadata": {},
   "outputs": [
    {
     "data": {
      "text/plain": [
       "1162"
      ]
     },
     "execution_count": 175,
     "metadata": {},
     "output_type": "execute_result"
    }
   ],
   "source": [
    "eTypeTest.shape[0]"
   ]
  },
  {
   "cell_type": "markdown",
   "metadata": {},
   "source": [
    "This is the data which was actually was 'e' and our model also predicted it 'e'."
   ]
  },
  {
   "cell_type": "code",
   "execution_count": 176,
   "metadata": {},
   "outputs": [
    {
     "data": {
      "text/plain": [
       "922"
      ]
     },
     "execution_count": 176,
     "metadata": {},
     "output_type": "execute_result"
    }
   ],
   "source": [
    "trueNegative "
   ]
  },
  {
   "cell_type": "markdown",
   "metadata": {},
   "source": [
    "This is the data which was actually was 'e' and our model also predicted it 'p'."
   ]
  },
  {
   "cell_type": "code",
   "execution_count": 177,
   "metadata": {},
   "outputs": [
    {
     "data": {
      "text/plain": [
       "240"
      ]
     },
     "execution_count": 177,
     "metadata": {},
     "output_type": "execute_result"
    }
   ],
   "source": [
    "falsePositive"
   ]
  },
  {
   "cell_type": "code",
   "execution_count": 179,
   "metadata": {},
   "outputs": [
    {
     "name": "stdout",
     "output_type": "stream",
     "text": [
      "0.7934595524956971\n"
     ]
    }
   ],
   "source": [
    "accuracy = (truePositive + trueNegative )/eTypeTest.shape[0]\n",
    "print(accuracy)"
   ]
  },
  {
   "cell_type": "markdown",
   "metadata": {},
   "source": [
    "### Now we are going to test our model on pType mushrooms."
   ]
  },
  {
   "cell_type": "code",
   "execution_count": 180,
   "metadata": {},
   "outputs": [],
   "source": [
    "truePositive = 0\n",
    "trueNegative = 0\n",
    "falsePositive = 0\n",
    "falseNegative = 0\n",
    "\n",
    "for i in range(pTYpeTest.shape[0]):\n",
    "    \n",
    "    PmushroomIsPgivenOnFeatures = multivariteNaiveBayesClassifier(pTYpeTest.iloc[i,1:])\n",
    "    \n",
    "    actualClass = pTYpeTest.iloc[i,0]\n",
    "    \n",
    "    if PmushroomIsPgivenOnFeatures>0.5 and actualClass == 'p':\n",
    "        truePositive +=1\n",
    "    elif PmushroomIsPgivenOnFeatures <0.5 and actualClass == 'e':\n",
    "        trueNegative +=1\n",
    "    elif PmushroomIsPgivenOnFeatures>0.5 and actualClass == 'e':\n",
    "        falsePositive +=1\n",
    "    else:\n",
    "        falseNegative +=1"
   ]
  },
  {
   "cell_type": "markdown",
   "metadata": {},
   "source": [
    "The Test Data is all about pType mushrooms so we should be concerned about truePositive and falseNegative."
   ]
  },
  {
   "cell_type": "code",
   "execution_count": 181,
   "metadata": {},
   "outputs": [
    {
     "data": {
      "text/plain": [
       "870"
      ]
     },
     "execution_count": 181,
     "metadata": {},
     "output_type": "execute_result"
    }
   ],
   "source": [
    "pTYpeTest.shape[0]"
   ]
  },
  {
   "cell_type": "markdown",
   "metadata": {},
   "source": [
    "The model predicted the data to be 'p' type and our data was actually 'p' type."
   ]
  },
  {
   "cell_type": "code",
   "execution_count": 182,
   "metadata": {},
   "outputs": [
    {
     "data": {
      "text/plain": [
       "848"
      ]
     },
     "execution_count": 182,
     "metadata": {},
     "output_type": "execute_result"
    }
   ],
   "source": [
    "truePositive"
   ]
  },
  {
   "cell_type": "markdown",
   "metadata": {},
   "source": [
    "The model predicted the data to be 'e' type but our data was of 'p' type."
   ]
  },
  {
   "cell_type": "code",
   "execution_count": 183,
   "metadata": {},
   "outputs": [
    {
     "data": {
      "text/plain": [
       "22"
      ]
     },
     "execution_count": 183,
     "metadata": {},
     "output_type": "execute_result"
    }
   ],
   "source": [
    "falseNegative"
   ]
  },
  {
   "cell_type": "code",
   "execution_count": 185,
   "metadata": {},
   "outputs": [],
   "source": [
    "accuracy = ((truePositive + trueNegative)/pTYpeTest.shape[0])*100"
   ]
  },
  {
   "cell_type": "code",
   "execution_count": 186,
   "metadata": {},
   "outputs": [
    {
     "name": "stdout",
     "output_type": "stream",
     "text": [
      "97.47126436781609\n"
     ]
    }
   ],
   "source": [
    "print(accuracy)"
   ]
  },
  {
   "cell_type": "code",
   "execution_count": null,
   "metadata": {},
   "outputs": [],
   "source": []
  }
 ],
 "metadata": {
  "kernelspec": {
   "display_name": "Python 3",
   "language": "python",
   "name": "python3"
  },
  "language_info": {
   "codemirror_mode": {
    "name": "ipython",
    "version": 3
   },
   "file_extension": ".py",
   "mimetype": "text/x-python",
   "name": "python",
   "nbconvert_exporter": "python",
   "pygments_lexer": "ipython3",
   "version": "3.6.4"
  }
 },
 "nbformat": 4,
 "nbformat_minor": 2
}
